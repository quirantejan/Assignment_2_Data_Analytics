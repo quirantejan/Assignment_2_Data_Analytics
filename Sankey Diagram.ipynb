{
 "cells": [
  {
   "cell_type": "code",
   "execution_count": null,
   "id": "1fe98c4e-abb8-427c-ac81-a2dc7d73ad4f",
   "metadata": {},
   "outputs": [],
   "source": [
    "import plotly.graph_objects as go\n",
    "\n",
    "all_nodes = ['PS', 'OMP', 'CNP', 'NRP', 'NMCCC', 'PEC', 'NCDM', 'RGS', 'S', 'F', 'D', 'N', 'I', 'Reg', 'Aca', 'Oth']\n",
    "\n",
    "source = [0, 0, 0, 1, 1, 1, 1, 1, 2, 2, 2, 2, 3, 3, 4, 5, 6, 6, 6, 7, 7, 7,\n",
    "          8, 8, 8, 9, 9, 10, 10, 10, 11, 11, 11, 12]\n",
    "target = [8, 10, 11, 8, 9, 10, 11, 12, 8, 9, 10, 11, 8, 9, 9, 11, 8, 10, 11, 8, 9, 10,\n",
    "          13, 14, 15, 13, 14, 13, 14, 15, 13, 14, 15, 14]\n",
    "value = [3, 1, 1, 4, 1, 1, 1, 1, 1, 2, 2, 1, 1, 1, 1, 1, 1, 1, 1, 1, 1, 1,\n",
    "         2, 7, 1, 2, 2, 1, 3, 1, 2, 2, 1, 1]\n",
    "\n",
    "node_colors = [\n",
    "    '#1f77b4', '#ff7f0e', '#2ca02c', '#d62728', '#9467bd', \n",
    "    '#8c564b', '#e377c2', '#7f7f7f', '#bcbd22', '#17becf', \n",
    "    '#aec7e8', '#ffbb78', '#98df8a', '#ff9896', '#c5b0d5', \n",
    "    '#c49c94'\n",
    "]\n",
    "\n",
    "fig = go.Figure(data=[go.Sankey(\n",
    "    node=dict(\n",
    "        pad=45,\n",
    "        thickness=50,\n",
    "        label=all_nodes,\n",
    "        color=node_colors \n",
    "    ),\n",
    "    link=dict(\n",
    "        source=source,\n",
    "        target=target,\n",
    "        value=value\n",
    "    )\n",
    ")])\n",
    "\n",
    "fig.update_layout(title_text=\"Mapping of Relationships Using Sankey Diagram\", font_size=15)\n",
    "fig.show()\n"
   ]
  }
 ],
 "metadata": {
  "kernelspec": {
   "display_name": "Python 3 (ipykernel)",
   "language": "python",
   "name": "python3"
  },
  "language_info": {
   "codemirror_mode": {
    "name": "ipython",
    "version": 3
   },
   "file_extension": ".py",
   "mimetype": "text/x-python",
   "name": "python",
   "nbconvert_exporter": "python",
   "pygments_lexer": "ipython3",
   "version": "3.11.7"
  }
 },
 "nbformat": 4,
 "nbformat_minor": 5
}
